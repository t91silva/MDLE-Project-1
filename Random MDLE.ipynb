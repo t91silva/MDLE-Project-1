{
 "cells": [
  {
   "cell_type": "code",
   "execution_count": 1,
   "metadata": {},
   "outputs": [],
   "source": [
    "import pyspark\n",
    "import pandas as pd\n",
    "from pyspark.sql import SparkSession\n",
    "from pyspark.sql.functions import split\n",
    "from pyspark import SparkContext, SparkConf     "
   ]
  },
  {
   "cell_type": "code",
   "execution_count": 2,
   "metadata": {},
   "outputs": [],
   "source": [
    "conf = SparkConf()\n",
    "sc = SparkContext(conf=conf)"
   ]
  },
  {
   "cell_type": "code",
   "execution_count": 3,
   "metadata": {},
   "outputs": [],
   "source": [
    "spark = SparkSession \\\n",
    "    .builder \\\n",
    "    .appName(\"CSV with conditions\") \\\n",
    "    .config(\"spark.some.config.option\", \"some-value\") \\\n",
    "    .getOrCreate()\n",
    "\n",
    "spark.conf.set(\"spark.sql.execution.arrow.pyspark.enabled\", \"true\")"
   ]
  },
  {
   "cell_type": "code",
   "execution_count": 4,
   "metadata": {},
   "outputs": [],
   "source": [
    "char = spark.read.text(\"dataset/character.metadata.tsv\")\n",
    "meta=spark.read.text(\"dataset/movie.metadata.tsv\")\n",
    "name=spark.read.text(\"dataset/name.clusters.txt\")\n",
    "plot = spark.read.text(\"dataset/plot_summaries.txt\")\n",
    "tv = spark.read.text(\"dataset/tvtropes.clusters.txt\")"
   ]
  },
  {
   "cell_type": "code",
   "execution_count": null,
   "metadata": {},
   "outputs": [],
   "source": [
    "sc.setLogLevel(\"WARN\")\n",
    "#setup the same way you have it\n",
    "log_txt=sc.textFile(\"dataset/character.metadata.tsv\")\n",
    "header = log_txt.first()\n",
    "\n",
    "#filter out the header, make sure the rest looks correct\n",
    "log_txt = log_txt.filter(lambda line: line != header)\n",
    "\n",
    "temp_var = log_txt.map(lambda k: k.split(\"\\\\t\"))\n",
    "\n",
    "#here's where the changes take place\n",
    "#this creates a dataframe using whatever pyspark feels like using (I think string is the default). the header.split is providing the names of the columns\n",
    "log_df=temp_var.toDF(header.split(\"\\\\t\"))\n",
    "log_df.show()"
   ]
  },
  {
   "cell_type": "code",
   "execution_count": 5,
   "metadata": {},
   "outputs": [
    {
     "name": "stdout",
     "output_type": "stream",
     "text": [
      "root\n",
      " |-- value: string (nullable = true)\n",
      "\n",
      "+--------------------+\n",
      "|               value|\n",
      "+--------------------+\n",
      "|975900\\t/m/03vyhn...|\n",
      "|975900\\t/m/03vyhn...|\n",
      "|975900\\t/m/03vyhn...|\n",
      "|975900\\t/m/03vyhn...|\n",
      "|975900\\t/m/03vyhn...|\n",
      "|975900\\t/m/03vyhn...|\n",
      "|975900\\t/m/03vyhn...|\n",
      "|975900\\t/m/03vyhn...|\n",
      "|975900\\t/m/03vyhn...|\n",
      "|975900\\t/m/03vyhn...|\n",
      "|975900\\t/m/03vyhn...|\n",
      "|975900\\t/m/03vyhn...|\n",
      "|975900\\t/m/03vyhn...|\n",
      "|975900\\t/m/03vyhn...|\n",
      "|975900\\t/m/03vyhn...|\n",
      "|975900\\t/m/03vyhn...|\n",
      "|975900\\t/m/03vyhn...|\n",
      "|3196793\\t/m/08yl5...|\n",
      "|3196793\\t/m/08yl5...|\n",
      "|3196793\\t/m/08yl5...|\n",
      "+--------------------+\n",
      "only showing top 20 rows\n",
      "\n",
      "+------------------------------------------------------------------------------------------------------------------------------------------------------+\n",
      "|columns                                                                                                                                               |\n",
      "+------------------------------------------------------------------------------------------------------------------------------------------------------+\n",
      "|[975900, /m/03vyhn, 2001-08-24, Akooshay, 1958-08-26, F, 1.62, , Wanda De Jesus, 42, /m/0bgchxw, /m/0bgcj3x, /m/03wcfv7]                              |\n",
      "|[975900, /m/03vyhn, 2001-08-24, Lieutenant Melanie Ballard, 1974-08-15, F, 1.78, /m/044038p, Natasha Henstridge, 27, /m/0jys3m, /m/0bgchn4, /m/0346l4]|\n",
      "|[975900, /m/03vyhn, 2001-08-24, Desolation Williams, 1969-06-15, M, 1.727, /m/0x67, Ice Cube, 32, /m/0jys3g, /m/0bgchn_, /m/01vw26l]                  |\n",
      "+------------------------------------------------------------------------------------------------------------------------------------------------------+\n",
      "only showing top 3 rows\n",
      "\n"
     ]
    }
   ],
   "source": [
    "char = spark.read.text(\"dataset/character.metadata.tsv\")\n",
    "char.printSchema()\n",
    "char.show()\n",
    "char.selectExpr(\"split(value, '\\t') as columns\").show(3, False)"
   ]
  },
  {
   "cell_type": "code",
   "execution_count": 11,
   "metadata": {},
   "outputs": [
    {
     "name": "stdout",
     "output_type": "stream",
     "text": [
      "+--------------------+\n",
      "|               value|\n",
      "+--------------------+\n",
      "|975900\\t/m/03vyhn...|\n",
      "|975900\\t/m/03vyhn...|\n",
      "|975900\\t/m/03vyhn...|\n",
      "|975900\\t/m/03vyhn...|\n",
      "|975900\\t/m/03vyhn...|\n",
      "|975900\\t/m/03vyhn...|\n",
      "|975900\\t/m/03vyhn...|\n",
      "|975900\\t/m/03vyhn...|\n",
      "|975900\\t/m/03vyhn...|\n",
      "|975900\\t/m/03vyhn...|\n",
      "|975900\\t/m/03vyhn...|\n",
      "|975900\\t/m/03vyhn...|\n",
      "|975900\\t/m/03vyhn...|\n",
      "|975900\\t/m/03vyhn...|\n",
      "|975900\\t/m/03vyhn...|\n",
      "|975900\\t/m/03vyhn...|\n",
      "|975900\\t/m/03vyhn...|\n",
      "|3196793\\t/m/08yl5...|\n",
      "|3196793\\t/m/08yl5...|\n",
      "|3196793\\t/m/08yl5...|\n",
      "+--------------------+\n",
      "only showing top 20 rows\n",
      "\n"
     ]
    }
   ],
   "source": [
    "char = spark.read.option(\"header\", \"true\")\\\n",
    "    .option(\"delimiter\", '\\t')\\\n",
    "    .option(\"inferSchema\", \"false\") \\\n",
    "    .text(\"dataset/character.metadata.tsv\")\n",
    "char.show()"
   ]
  },
  {
   "cell_type": "code",
   "execution_count": 8,
   "metadata": {},
   "outputs": [
    {
     "name": "stdout",
     "output_type": "stream",
     "text": [
      "+----------------------------------------------------------------------------------------------------------------------------------------------------+------+---------+\n",
      "|value                                                                                                                                               |NAME1 |NAME2    |\n",
      "+----------------------------------------------------------------------------------------------------------------------------------------------------+------+---------+\n",
      "|975900\\t/m/03vyhn\\t2001-08-24\\tAkooshay\\t1958-08-26\\tF\\t1.62\\t\\tWanda De Jesus\\t42\\t/m/0bgchxw\\t/m/0bgcj3x\\t/m/03wcfv7                              |975900|/m/03vyhn|\n",
      "|975900\\t/m/03vyhn\\t2001-08-24\\tLieutenant Melanie Ballard\\t1974-08-15\\tF\\t1.78\\t/m/044038p\\tNatasha Henstridge\\t27\\t/m/0jys3m\\t/m/0bgchn4\\t/m/0346l4|975900|/m/03vyhn|\n",
      "|975900\\t/m/03vyhn\\t2001-08-24\\tDesolation Williams\\t1969-06-15\\tM\\t1.727\\t/m/0x67\\tIce Cube\\t32\\t/m/0jys3g\\t/m/0bgchn_\\t/m/01vw26l                  |975900|/m/03vyhn|\n",
      "|975900\\t/m/03vyhn\\t2001-08-24\\tSgt Jericho Butler\\t1967-09-12\\tM\\t1.75\\t\\tJason Statham\\t33\\t/m/02vchl6\\t/m/0bgchnq\\t/m/034hyc                      |975900|/m/03vyhn|\n",
      "|975900\\t/m/03vyhn\\t2001-08-24\\tBashira Kincaid\\t1977-09-25\\tF\\t1.65\\t\\tClea DuVall\\t23\\t/m/02vbb3r\\t/m/0bgchp9\\t/m/01y9xg                           |975900|/m/03vyhn|\n",
      "|975900\\t/m/03vyhn\\t2001-08-24\\tCommander Helena Braddock\\t1949-05-26\\tF\\t1.727\\t/m/0x67\\tPam Grier\\t52\\t/m/02vdcfp\\t/m/0bgchnd\\t/m/0418ft           |975900|/m/03vyhn|\n",
      "|975900\\t/m/03vyhn\\t2001-08-24\\tWhitlock\\t1945-08-02\\tF\\t1.753\\t\\tJoanna Cassidy\\t56\\t/m/02vd6kw\\t/m/0bgchmx\\t/m/06lj1m                              |975900|/m/03vyhn|\n",
      "|975900\\t/m/03vyhn\\t2001-08-24\\tBig Daddy Mars\\t\\tM\\t\\t\\tRichard Cetrone\\t\\t/m/0bgchsy\\t/m/0bgcht0\\t/m/0bgcht7                                       |975900|/m/03vyhn|\n",
      "|975900\\t/m/03vyhn\\t2001-08-24\\tMichael Descanso\\t1971-03-20\\tM\\t1.892\\t\\tLiam Waite\\t30\\t/m/03jqhb0\\t/m/0bgchs4\\t/m/0ks8b0                          |975900|/m/03vyhn|\n",
      "|975900\\t/m/03vyhn\\t2001-08-24\\tUno\\t\\tM\\t\\t\\tDuane Davis\\t\\t/m/0bgchtj\\t/m/0bgchtm\\t/m/03nrwdy                                                      |975900|/m/03vyhn|\n",
      "+----------------------------------------------------------------------------------------------------------------------------------------------------+------+---------+\n",
      "only showing top 10 rows\n",
      "\n"
     ]
    }
   ],
   "source": [
    "split_col = pyspark.sql.functions.split(df2['value'], '\\t')\n",
    "df2 = df2.withColumn('NAME1', split_col.getItem(0))\n",
    "df2 = df2.withColumn('NAME2', split_col.getItem(1))\n",
    "\n",
    "df2.show(10,truncate=False)"
   ]
  }
 ],
 "metadata": {
  "interpreter": {
   "hash": "e61b0395c6402dd6e89f7a5082a90c12afe336de25fb448ff9b187ddb8b4ce0d"
  },
  "kernelspec": {
   "display_name": "Python 3.7.9 64-bit",
   "language": "python",
   "name": "python3"
  },
  "language_info": {
   "codemirror_mode": {
    "name": "ipython",
    "version": 3
   },
   "file_extension": ".py",
   "mimetype": "text/x-python",
   "name": "python",
   "nbconvert_exporter": "python",
   "pygments_lexer": "ipython3",
   "version": "3.8.8"
  },
  "orig_nbformat": 4
 },
 "nbformat": 4,
 "nbformat_minor": 2
}
