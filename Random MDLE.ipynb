{
 "cells": [
  {
   "cell_type": "code",
   "execution_count": 1,
   "metadata": {},
   "outputs": [],
   "source": [
    "import pyspark\n",
    "import pandas as pd\n",
    "from pyspark.sql import SparkSession\n",
    "from pyspark import SparkContext, SparkConf     "
   ]
  },
  {
   "cell_type": "code",
   "execution_count": 2,
   "metadata": {},
   "outputs": [],
   "source": [
    "conf = SparkConf()\n",
    "sc = SparkContext(conf=conf)"
   ]
  },
  {
   "cell_type": "code",
   "execution_count": 3,
   "metadata": {},
   "outputs": [],
   "source": [
    "spark = SparkSession \\\n",
    "    .builder \\\n",
    "    .appName(\"CSV with conditions\") \\\n",
    "    .config(\"spark.some.config.option\", \"some-value\") \\\n",
    "    .getOrCreate()\n",
    "\n",
    "spark.conf.set(\"spark.sql.execution.arrow.pyspark.enabled\", \"true\")"
   ]
  },
  {
   "cell_type": "code",
   "execution_count": 4,
   "metadata": {},
   "outputs": [],
   "source": [
    "char = spark.read.text(\"dataset/character.metadata.tsv\")\n",
    "meta=spark.read.text(\"dataset/movie.metadata.tsv\")\n",
    "name=spark.read.text(\"dataset/name.clusters.txt\")\n",
    "plot = spark.read.text(\"dataset/plot_summaries.txt\")\n",
    "tv = spark.read.text(\"dataset/tvtropes.clusters.txt\")"
   ]
  },
  {
   "cell_type": "code",
   "execution_count": null,
   "metadata": {},
   "outputs": [],
   "source": []
  },
  {
   "cell_type": "code",
   "execution_count": 18,
   "metadata": {},
   "outputs": [
    {
     "name": "stdout",
     "output_type": "stream",
     "text": [
      "+----------------------------------------------------------------------------------------------------------------------------------------------------+\n",
      "|value                                                                                                                                               |\n",
      "+----------------------------------------------------------------------------------------------------------------------------------------------------+\n",
      "|975900\\t/m/03vyhn\\t2001-08-24\\tAkooshay\\t1958-08-26\\tF\\t1.62\\t\\tWanda De Jesus\\t42\\t/m/0bgchxw\\t/m/0bgcj3x\\t/m/03wcfv7                              |\n",
      "|975900\\t/m/03vyhn\\t2001-08-24\\tLieutenant Melanie Ballard\\t1974-08-15\\tF\\t1.78\\t/m/044038p\\tNatasha Henstridge\\t27\\t/m/0jys3m\\t/m/0bgchn4\\t/m/0346l4|\n",
      "|975900\\t/m/03vyhn\\t2001-08-24\\tDesolation Williams\\t1969-06-15\\tM\\t1.727\\t/m/0x67\\tIce Cube\\t32\\t/m/0jys3g\\t/m/0bgchn_\\t/m/01vw26l                  |\n",
      "|975900\\t/m/03vyhn\\t2001-08-24\\tSgt Jericho Butler\\t1967-09-12\\tM\\t1.75\\t\\tJason Statham\\t33\\t/m/02vchl6\\t/m/0bgchnq\\t/m/034hyc                      |\n",
      "|975900\\t/m/03vyhn\\t2001-08-24\\tBashira Kincaid\\t1977-09-25\\tF\\t1.65\\t\\tClea DuVall\\t23\\t/m/02vbb3r\\t/m/0bgchp9\\t/m/01y9xg                           |\n",
      "|975900\\t/m/03vyhn\\t2001-08-24\\tCommander Helena Braddock\\t1949-05-26\\tF\\t1.727\\t/m/0x67\\tPam Grier\\t52\\t/m/02vdcfp\\t/m/0bgchnd\\t/m/0418ft           |\n",
      "|975900\\t/m/03vyhn\\t2001-08-24\\tWhitlock\\t1945-08-02\\tF\\t1.753\\t\\tJoanna Cassidy\\t56\\t/m/02vd6kw\\t/m/0bgchmx\\t/m/06lj1m                              |\n",
      "|975900\\t/m/03vyhn\\t2001-08-24\\tBig Daddy Mars\\t\\tM\\t\\t\\tRichard Cetrone\\t\\t/m/0bgchsy\\t/m/0bgcht0\\t/m/0bgcht7                                       |\n",
      "|975900\\t/m/03vyhn\\t2001-08-24\\tMichael Descanso\\t1971-03-20\\tM\\t1.892\\t\\tLiam Waite\\t30\\t/m/03jqhb0\\t/m/0bgchs4\\t/m/0ks8b0                          |\n",
      "|975900\\t/m/03vyhn\\t2001-08-24\\tUno\\t\\tM\\t\\t\\tDuane Davis\\t\\t/m/0bgchtj\\t/m/0bgchtm\\t/m/03nrwdy                                                      |\n",
      "+----------------------------------------------------------------------------------------------------------------------------------------------------+\n",
      "only showing top 10 rows\n",
      "\n"
     ]
    }
   ],
   "source": [
    "path = \"dataset/character.metadata.tsv\"\n",
    "\n",
    "df2 = spark.read.text(path, lineSep=\"\\n\")\n",
    "df2.show(10,truncate=False)\n",
    "\n",
    "#val df2 = spark.read.option(\"lineSep\", \",\").text(path)\n",
    "#df2.show()"
   ]
  }
 ],
 "metadata": {
  "interpreter": {
   "hash": "e61b0395c6402dd6e89f7a5082a90c12afe336de25fb448ff9b187ddb8b4ce0d"
  },
  "kernelspec": {
   "display_name": "Python 3.7.9 64-bit",
   "language": "python",
   "name": "python3"
  },
  "language_info": {
   "codemirror_mode": {
    "name": "ipython",
    "version": 3
   },
   "file_extension": ".py",
   "mimetype": "text/x-python",
   "name": "python",
   "nbconvert_exporter": "python",
   "pygments_lexer": "ipython3",
   "version": "3.8.8"
  },
  "orig_nbformat": 4
 },
 "nbformat": 4,
 "nbformat_minor": 2
}
