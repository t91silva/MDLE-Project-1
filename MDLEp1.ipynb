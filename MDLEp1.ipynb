{
 "cells": [
  {
   "cell_type": "code",
   "execution_count": 2,
   "metadata": {},
   "outputs": [],
   "source": [
    "import pyspark\n",
    "import pandas as pd\n",
    "from pyspark.sql import SparkSession\n",
    "from pyspark import SparkContext, SparkConf"
   ]
  },
  {
   "cell_type": "code",
   "execution_count": 3,
   "metadata": {},
   "outputs": [],
   "source": [
    "conf = SparkConf()\n",
    "sc = SparkContext(conf=conf)"
   ]
  },
  {
   "cell_type": "code",
   "execution_count": 4,
   "metadata": {},
   "outputs": [],
   "source": [
    "spark = SparkSession \\\n",
    "    .builder \\\n",
    "    .appName(\"CSV with conditions\") \\\n",
    "    .config(\"spark.some.config.option\", \"some-value\") \\\n",
    "    .getOrCreate()\n",
    "\n",
    "spark.conf.set(\"spark.sql.execution.arrow.pyspark.enabled\", \"true\")\n",
    "\n",
    "#????????? não percebi bem se o config é preciso em alguns não aparece"
   ]
  },
  {
   "cell_type": "code",
   "execution_count": 5,
   "metadata": {},
   "outputs": [],
   "source": [
    "df = spark.read.csv(\"dataset/conditions.csv\") .limit(40)"
   ]
  },
  {
   "cell_type": "code",
   "execution_count": 6,
   "metadata": {},
   "outputs": [
    {
     "name": "stdout",
     "output_type": "stream",
     "text": [
      "root\n",
      " |-- _c0: string (nullable = true)\n",
      " |-- _c1: string (nullable = true)\n",
      " |-- _c2: string (nullable = true)\n",
      " |-- _c3: string (nullable = true)\n",
      " |-- _c4: string (nullable = true)\n",
      " |-- _c5: string (nullable = true)\n",
      "\n",
      "+----------+----------+--------------------+--------------------+---------+--------------------+\n",
      "|       _c0|       _c1|                 _c2|                 _c3|      _c4|                 _c5|\n",
      "+----------+----------+--------------------+--------------------+---------+--------------------+\n",
      "|     START|      STOP|             PATIENT|           ENCOUNTER|     CODE|         DESCRIPTION|\n",
      "|2017-01-14|2017-03-30|09e4e8cb-29c2-4ef...|88e540ab-a7d7-47d...| 65363002|        Otitis media|\n",
      "|2012-09-15|2012-09-16|b0a03e8c-8d0f-424...|e89414dc-d0c6-478...|241929008|Acute allergic re...|\n",
      "|2018-06-17|2018-06-24|09e4e8cb-29c2-4ef...|c14325b0-f7ec-431...|444814009|Viral sinusitis (...|\n",
      "|2019-04-19|2019-09-26|09e4e8cb-29c2-4ef...|71af18ee-3157-408...| 65363002|        Otitis media|\n",
      "|2019-04-27|2019-05-18|09e4e8cb-29c2-4ef...|411d4eae-72d1-478...|444814009|Viral sinusitis (...|\n",
      "|2019-06-03|2019-08-02|09e4e8cb-29c2-4ef...|667a94d9-6aa1-4b6...| 33737001|     Fracture of rib|\n",
      "|2014-11-09|2014-11-30|b0a03e8c-8d0f-424...|53431016-43c6-46b...|444814009|Viral sinusitis (...|\n",
      "|2015-01-04|2015-01-18|b0a03e8c-8d0f-424...|fb838ab5-2805-41c...| 10509002|Acute bronchitis ...|\n",
      "|2015-03-26|      null|b0a03e8c-8d0f-424...|fbc7efee-c52c-4d4...|233678006|    Childhood asthma|\n",
      "|2015-08-04|2015-08-14|b0a03e8c-8d0f-424...|2c912168-e7c9-403...|195662009|Acute viral phary...|\n",
      "|2017-03-25|      null|b0a03e8c-8d0f-424...|c7b8d2e7-7503-420...|232353008|Perennial allergi...|\n",
      "|2017-07-06|2017-07-19|b0a03e8c-8d0f-424...|d80ec843-b8a0-4a6...|195662009|Acute viral phary...|\n",
      "|1997-07-15|2013-07-13|5420ae87-24c8-4ed...|48cf8d6c-42fd-4a0...|446096008|Perennial allergi...|\n",
      "|2011-12-07|2011-12-21|5420ae87-24c8-4ed...|e3339c56-7735-4cf...|284551006|  Laceration of foot|\n",
      "|2013-11-10|2013-11-24|5420ae87-24c8-4ed...|f6161868-7e9b-471...|283371005|Laceration of for...|\n",
      "|2016-09-24|2017-04-29|5420ae87-24c8-4ed...|0f531593-2c53-461...| 72892002|    Normal pregnancy|\n",
      "|2017-10-15|2017-10-22|5420ae87-24c8-4ed...|52d0d19a-7930-4b5...|444814009|Viral sinusitis (...|\n",
      "|2018-07-20|2018-07-29|5420ae87-24c8-4ed...|aefa8d2e-815f-43d...|195662009|Acute viral phary...|\n",
      "|2014-04-27|      null|bf1f30f2-27de-4b5...|14595c35-2966-465...|162864005|Body mass index 3...|\n",
      "+----------+----------+--------------------+--------------------+---------+--------------------+\n",
      "only showing top 20 rows\n",
      "\n"
     ]
    }
   ],
   "source": [
    "df.printSchema()\n",
    "df.show()"
   ]
  },
  {
   "cell_type": "code",
   "execution_count": 7,
   "metadata": {},
   "outputs": [
    {
     "name": "stdout",
     "output_type": "stream",
     "text": [
      "+--------------------+---------+\n",
      "|             PATIENT|     CODE|\n",
      "+--------------------+---------+\n",
      "|09e4e8cb-29c2-4ef...| 65363002|\n",
      "|b0a03e8c-8d0f-424...|241929008|\n",
      "|09e4e8cb-29c2-4ef...|444814009|\n",
      "|09e4e8cb-29c2-4ef...| 65363002|\n",
      "|09e4e8cb-29c2-4ef...|444814009|\n",
      "|09e4e8cb-29c2-4ef...| 33737001|\n",
      "|b0a03e8c-8d0f-424...|444814009|\n",
      "|b0a03e8c-8d0f-424...| 10509002|\n",
      "|b0a03e8c-8d0f-424...|233678006|\n",
      "|b0a03e8c-8d0f-424...|195662009|\n",
      "|b0a03e8c-8d0f-424...|232353008|\n",
      "|b0a03e8c-8d0f-424...|195662009|\n",
      "|5420ae87-24c8-4ed...|446096008|\n",
      "|5420ae87-24c8-4ed...|284551006|\n",
      "|5420ae87-24c8-4ed...|283371005|\n",
      "|5420ae87-24c8-4ed...| 72892002|\n",
      "|5420ae87-24c8-4ed...|444814009|\n",
      "|5420ae87-24c8-4ed...|195662009|\n",
      "|bf1f30f2-27de-4b5...|162864005|\n",
      "|bf1f30f2-27de-4b5...|283385000|\n",
      "+--------------------+---------+\n",
      "only showing top 20 rows\n",
      "\n"
     ]
    }
   ],
   "source": [
    "Data_list = [\"START\",\"STOP\",\"PATIENT\",\"ENCOUNTER\",\"CODE\",\"DESCRIPTION\"]\n",
    " \n",
    "df = df.toDF(*Data_list)\n",
    "df=df.filter(df.START !=\"START\")\n",
    "df=df.drop(*['START','STOP','ENCOUNTER','DESCRIPTION'])\n",
    "df.show()"
   ]
  },
  {
   "cell_type": "code",
   "execution_count": 8,
   "metadata": {},
   "outputs": [],
   "source": [
    "df = df.dropna()  #confirmar depois com tudo"
   ]
  },
  {
   "cell_type": "code",
   "execution_count": 9,
   "metadata": {},
   "outputs": [
    {
     "name": "stdout",
     "output_type": "stream",
     "text": [
      "+--------------------+---------+\n",
      "|             PATIENT|     CODE|\n",
      "+--------------------+---------+\n",
      "|09e4e8cb-29c2-4ef...| 65363002|\n",
      "|b0a03e8c-8d0f-424...|241929008|\n",
      "|09e4e8cb-29c2-4ef...|444814009|\n",
      "|09e4e8cb-29c2-4ef...| 65363002|\n",
      "|09e4e8cb-29c2-4ef...|444814009|\n",
      "|09e4e8cb-29c2-4ef...| 33737001|\n",
      "|b0a03e8c-8d0f-424...|444814009|\n",
      "|b0a03e8c-8d0f-424...| 10509002|\n",
      "|b0a03e8c-8d0f-424...|233678006|\n",
      "|b0a03e8c-8d0f-424...|195662009|\n",
      "|b0a03e8c-8d0f-424...|232353008|\n",
      "|b0a03e8c-8d0f-424...|195662009|\n",
      "|5420ae87-24c8-4ed...|446096008|\n",
      "|5420ae87-24c8-4ed...|284551006|\n",
      "|5420ae87-24c8-4ed...|283371005|\n",
      "|5420ae87-24c8-4ed...| 72892002|\n",
      "|5420ae87-24c8-4ed...|444814009|\n",
      "|5420ae87-24c8-4ed...|195662009|\n",
      "|bf1f30f2-27de-4b5...|162864005|\n",
      "|bf1f30f2-27de-4b5...|283385000|\n",
      "+--------------------+---------+\n",
      "only showing top 20 rows\n",
      "\n"
     ]
    }
   ],
   "source": [
    "df.show()"
   ]
  },
  {
   "cell_type": "code",
   "execution_count": 10,
   "metadata": {},
   "outputs": [
    {
     "name": "stdout",
     "output_type": "stream",
     "text": [
      "+------------------------------------+-----------------------------------------------------------------+\n",
      "|PATIENT                             |items                                                            |\n",
      "+------------------------------------+-----------------------------------------------------------------+\n",
      "|09e4e8cb-29c2-4ef4-86c0-a6ff0ba25d2a|[33737001, 65363002, 444814009]                                  |\n",
      "|b0a03e8c-8d0f-4242-9548-40f4d294eba8|[241929008, 10509002, 233678006, 444814009, 195662009, 232353008]|\n",
      "|5420ae87-24c8-4ed4-ad14-041d15aadae9|[446096008, 72892002, 283371005, 444814009, 195662009, 284551006]|\n",
      "|bf1f30f2-27de-4b54-809b-f91b92949565|[162864005, 283385000, 239873007]                                |\n",
      "|28a3cdb7-1db1-4148-8280-8a4e5b4f99e0|[156073000, 72892002, 19169002, 284551006]                       |\n",
      "|6c248ef3-3fa2-4888-820e-d8a596bdc381|[162864005, 429007001, 410429000, 55822004, 239873007, 68496003] |\n",
      "|90f0b8d0-3888-415f-8234-d68f7beab894|[307731004, 72892002, 444814009, 195662009, 44465007]            |\n",
      "+------------------------------------+-----------------------------------------------------------------+\n",
      "\n"
     ]
    }
   ],
   "source": [
    "#Cada basquet não tem items repetidos, ou seja, se uma pessoa tiver a mesma doença mais que uma vez não é contabilizado aqui\n",
    "#Pode ser interessante arranjar maneira de contabilizar, logo se vê....\n",
    "\n",
    "from pyspark.sql.functions import collect_set, col, count\n",
    "\n",
    "baskets = df.groupBy('PATIENT').agg(collect_set('CODE').alias('items'))\n",
    "baskets.createOrReplaceTempView('baskets')\n",
    "baskets.show(20,False)"
   ]
  },
  {
   "cell_type": "code",
   "execution_count": 11,
   "metadata": {},
   "outputs": [
    {
     "name": "stdout",
     "output_type": "stream",
     "text": [
      "+-----------------------------------------------------------------+\n",
      "|items                                                            |\n",
      "+-----------------------------------------------------------------+\n",
      "|[33737001, 65363002, 444814009]                                  |\n",
      "|[241929008, 10509002, 233678006, 444814009, 195662009, 232353008]|\n",
      "|[446096008, 72892002, 283371005, 444814009, 195662009, 284551006]|\n",
      "|[162864005, 283385000, 239873007]                                |\n",
      "|[156073000, 72892002, 19169002, 284551006]                       |\n",
      "|[162864005, 429007001, 410429000, 55822004, 239873007, 68496003] |\n",
      "|[307731004, 72892002, 444814009, 195662009, 44465007]            |\n",
      "+-----------------------------------------------------------------+\n",
      "\n"
     ]
    }
   ],
   "source": [
    "baskets=baskets.drop('PATIENT')\n",
    "baskets.show(20,False)"
   ]
  },
  {
   "cell_type": "code",
   "execution_count": 20,
   "metadata": {},
   "outputs": [
    {
     "data": {
      "text/plain": [
       "[['33737001', '65363002', '444814009'],\n",
       " ['241929008', '10509002', '233678006', '444814009', '195662009', '232353008'],\n",
       " ['446096008', '72892002', '283371005', '444814009', '195662009', '284551006'],\n",
       " ['162864005', '283385000', '239873007'],\n",
       " ['156073000', '72892002', '19169002', '284551006']]"
      ]
     },
     "execution_count": 20,
     "metadata": {},
     "output_type": "execute_result"
    }
   ],
   "source": [
    "BasquetRDD = baskets.rdd.flatMap(list)   #.map(list)\n",
    "BasquetRDD.take(5)"
   ]
  },
  {
   "cell_type": "code",
   "execution_count": 21,
   "metadata": {},
   "outputs": [
    {
     "name": "stdout",
     "output_type": "stream",
     "text": [
      "+---------+\n",
      "|CODE     |\n",
      "+---------+\n",
      "|65363002 |\n",
      "|241929008|\n",
      "|444814009|\n",
      "|65363002 |\n",
      "|444814009|\n",
      "|33737001 |\n",
      "|444814009|\n",
      "|10509002 |\n",
      "|233678006|\n",
      "|195662009|\n",
      "|232353008|\n",
      "|195662009|\n",
      "|446096008|\n",
      "|284551006|\n",
      "|283371005|\n",
      "|72892002 |\n",
      "|444814009|\n",
      "|195662009|\n",
      "|162864005|\n",
      "|283385000|\n",
      "+---------+\n",
      "only showing top 20 rows\n",
      "\n"
     ]
    }
   ],
   "source": [
    "dfCodes=df.drop('PATIENT')\n",
    "dfCodes.show(20,False)"
   ]
  },
  {
   "cell_type": "code",
   "execution_count": 23,
   "metadata": {},
   "outputs": [
    {
     "data": {
      "text/plain": [
       "['65363002',\n",
       " '241929008',\n",
       " '444814009',\n",
       " '65363002',\n",
       " '444814009',\n",
       " '33737001',\n",
       " '444814009',\n",
       " '10509002',\n",
       " '233678006',\n",
       " '195662009',\n",
       " '232353008',\n",
       " '195662009',\n",
       " '446096008',\n",
       " '284551006',\n",
       " '283371005',\n",
       " '72892002',\n",
       " '444814009',\n",
       " '195662009',\n",
       " '162864005',\n",
       " '283385000']"
      ]
     },
     "execution_count": 23,
     "metadata": {},
     "output_type": "execute_result"
    }
   ],
   "source": [
    "CodesRDD=dfCodes.rdd.flatMap(list)\n",
    "CodesRDD.take(20)"
   ]
  },
  {
   "cell_type": "code",
   "execution_count": 26,
   "metadata": {},
   "outputs": [
    {
     "data": {
      "text/plain": [
       "['65363002',\n",
       " '241929008',\n",
       " '444814009',\n",
       " '33737001',\n",
       " '10509002',\n",
       " '233678006',\n",
       " '195662009',\n",
       " '232353008',\n",
       " '446096008',\n",
       " '284551006']"
      ]
     },
     "execution_count": 26,
     "metadata": {},
     "output_type": "execute_result"
    }
   ],
   "source": [
    "Unique = CodesRDD.distinct()\n",
    "Unique.take(10)"
   ]
  },
  {
   "cell_type": "code",
   "execution_count": 29,
   "metadata": {},
   "outputs": [
    {
     "data": {
      "text/plain": [
       "[('65363002', 2),\n",
       " ('241929008', 1),\n",
       " ('444814009', 5),\n",
       " ('33737001', 1),\n",
       " ('10509002', 1),\n",
       " ('233678006', 1),\n",
       " ('195662009', 4),\n",
       " ('232353008', 1),\n",
       " ('446096008', 1),\n",
       " ('284551006', 2)]"
      ]
     },
     "execution_count": 29,
     "metadata": {},
     "output_type": "execute_result"
    }
   ],
   "source": [
    "CountRDD = CodesRDD.map(lambda item: (item, 1))\n",
    "CountRDD = CountRDD.reduceByKey(lambda a,b: a+b)\n",
    "CountRDD.take(10)"
   ]
  },
  {
   "cell_type": "code",
   "execution_count": 30,
   "metadata": {},
   "outputs": [
    {
     "data": {
      "text/plain": [
       "[2, 1, 5, 1, 1, 1, 4, 1, 1, 2]"
      ]
     },
     "execution_count": 30,
     "metadata": {},
     "output_type": "execute_result"
    }
   ],
   "source": [
    "#Counts = CountRDD.map(lambda x: x[1])\n",
    "#Counts.take(10)\n",
    "# esta parte acho que não precisamos"
   ]
  },
  {
   "cell_type": "code",
   "execution_count": 32,
   "metadata": {},
   "outputs": [
    {
     "data": {
      "text/plain": [
       "[('65363002', 2),\n",
       " ('444814009', 5),\n",
       " ('195662009', 4),\n",
       " ('284551006', 2),\n",
       " ('72892002', 6),\n",
       " ('162864005', 2),\n",
       " ('239873007', 2)]"
      ]
     },
     "execution_count": 32,
     "metadata": {},
     "output_type": "execute_result"
    }
   ],
   "source": [
    "# Setting a support threshold of 1000\n",
    "# Aqui não tá 1000, tá 2, mas na versão com tudo faz-se com 1000\n",
    "CountFilterRDD=CountRDD.filter(lambda x: x[1] >= 2) #Aqui 1000\n",
    "CountFilterRDD.take(10)"
   ]
  },
  {
   "cell_type": "code",
   "execution_count": 39,
   "metadata": {},
   "outputs": [
    {
     "data": {
      "text/plain": [
       "['65363002',\n",
       " '444814009',\n",
       " '195662009',\n",
       " '284551006',\n",
       " '72892002',\n",
       " '162864005',\n",
       " '239873007']"
      ]
     },
     "execution_count": 39,
     "metadata": {},
     "output_type": "execute_result"
    }
   ],
   "source": [
    "CodeFilterRDD=CountFilterRDD.map(lambda x: x[0])\n",
    "CodeFilterRDD.take(10)"
   ]
  },
  {
   "cell_type": "code",
   "execution_count": null,
   "metadata": {},
   "outputs": [],
   "source": []
  }
 ],
 "metadata": {
  "interpreter": {
   "hash": "e61b0395c6402dd6e89f7a5082a90c12afe336de25fb448ff9b187ddb8b4ce0d"
  },
  "kernelspec": {
   "display_name": "Python 3 (ipykernel)",
   "language": "python",
   "name": "python3"
  },
  "language_info": {
   "codemirror_mode": {
    "name": "ipython",
    "version": 3
   },
   "file_extension": ".py",
   "mimetype": "text/x-python",
   "name": "python",
   "nbconvert_exporter": "python",
   "pygments_lexer": "ipython3",
   "version": "3.9.10"
  }
 },
 "nbformat": 4,
 "nbformat_minor": 4
}
