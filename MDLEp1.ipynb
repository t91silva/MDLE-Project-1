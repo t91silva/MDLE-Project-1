{
 "cells": [
  {
   "cell_type": "code",
   "execution_count": 1,
   "metadata": {},
   "outputs": [],
   "source": [
    "import pyspark\n",
    "import pandas as pd\n",
    "from pyspark.sql import SparkSession\n",
    "from pyspark import SparkContext, SparkConf"
   ]
  },
  {
   "cell_type": "code",
   "execution_count": 2,
   "metadata": {},
   "outputs": [],
   "source": [
    "conf = SparkConf()\n",
    "sc = SparkContext(conf=conf)"
   ]
  },
  {
   "cell_type": "code",
   "execution_count": 3,
   "metadata": {},
   "outputs": [],
   "source": [
    "spark = SparkSession \\\n",
    "    .builder \\\n",
    "    .appName(\"CSV with conditions\") \\\n",
    "    .config(\"spark.some.config.option\", \"some-value\") \\\n",
    "    .getOrCreate()\n",
    "\n",
    "spark.conf.set(\"spark.sql.execution.arrow.pyspark.enabled\", \"true\")\n",
    "\n",
    "#????????? não percebi bem se o config é preciso em alguns não aparece"
   ]
  },
  {
   "cell_type": "code",
   "execution_count": 4,
   "metadata": {},
   "outputs": [],
   "source": [
    "df = spark.read.csv(\"dataset/conditions.csv\") .limit(50)"
   ]
  },
  {
   "cell_type": "code",
   "execution_count": 5,
   "metadata": {},
   "outputs": [
    {
     "name": "stdout",
     "output_type": "stream",
     "text": [
      "root\n",
      " |-- _c0: string (nullable = true)\n",
      " |-- _c1: string (nullable = true)\n",
      " |-- _c2: string (nullable = true)\n",
      " |-- _c3: string (nullable = true)\n",
      " |-- _c4: string (nullable = true)\n",
      " |-- _c5: string (nullable = true)\n",
      "\n",
      "+----------+----------+--------------------+--------------------+---------+--------------------+\n",
      "|       _c0|       _c1|                 _c2|                 _c3|      _c4|                 _c5|\n",
      "+----------+----------+--------------------+--------------------+---------+--------------------+\n",
      "|     START|      STOP|             PATIENT|           ENCOUNTER|     CODE|         DESCRIPTION|\n",
      "|2017-01-14|2017-03-30|09e4e8cb-29c2-4ef...|88e540ab-a7d7-47d...| 65363002|        Otitis media|\n",
      "|2012-09-15|2012-09-16|b0a03e8c-8d0f-424...|e89414dc-d0c6-478...|241929008|Acute allergic re...|\n",
      "|2018-06-17|2018-06-24|09e4e8cb-29c2-4ef...|c14325b0-f7ec-431...|444814009|Viral sinusitis (...|\n",
      "|2019-04-19|2019-09-26|09e4e8cb-29c2-4ef...|71af18ee-3157-408...| 65363002|        Otitis media|\n",
      "|2019-04-27|2019-05-18|09e4e8cb-29c2-4ef...|411d4eae-72d1-478...|444814009|Viral sinusitis (...|\n",
      "|2019-06-03|2019-08-02|09e4e8cb-29c2-4ef...|667a94d9-6aa1-4b6...| 33737001|     Fracture of rib|\n",
      "|2014-11-09|2014-11-30|b0a03e8c-8d0f-424...|53431016-43c6-46b...|444814009|Viral sinusitis (...|\n",
      "|2015-01-04|2015-01-18|b0a03e8c-8d0f-424...|fb838ab5-2805-41c...| 10509002|Acute bronchitis ...|\n",
      "|2015-03-26|      null|b0a03e8c-8d0f-424...|fbc7efee-c52c-4d4...|233678006|    Childhood asthma|\n",
      "|2015-08-04|2015-08-14|b0a03e8c-8d0f-424...|2c912168-e7c9-403...|195662009|Acute viral phary...|\n",
      "|2017-03-25|      null|b0a03e8c-8d0f-424...|c7b8d2e7-7503-420...|232353008|Perennial allergi...|\n",
      "|2017-07-06|2017-07-19|b0a03e8c-8d0f-424...|d80ec843-b8a0-4a6...|195662009|Acute viral phary...|\n",
      "|1997-07-15|2013-07-13|5420ae87-24c8-4ed...|48cf8d6c-42fd-4a0...|446096008|Perennial allergi...|\n",
      "|2011-12-07|2011-12-21|5420ae87-24c8-4ed...|e3339c56-7735-4cf...|284551006|  Laceration of foot|\n",
      "|2013-11-10|2013-11-24|5420ae87-24c8-4ed...|f6161868-7e9b-471...|283371005|Laceration of for...|\n",
      "|2016-09-24|2017-04-29|5420ae87-24c8-4ed...|0f531593-2c53-461...| 72892002|    Normal pregnancy|\n",
      "|2017-10-15|2017-10-22|5420ae87-24c8-4ed...|52d0d19a-7930-4b5...|444814009|Viral sinusitis (...|\n",
      "|2018-07-20|2018-07-29|5420ae87-24c8-4ed...|aefa8d2e-815f-43d...|195662009|Acute viral phary...|\n",
      "|2014-04-27|      null|bf1f30f2-27de-4b5...|14595c35-2966-465...|162864005|Body mass index 3...|\n",
      "+----------+----------+--------------------+--------------------+---------+--------------------+\n",
      "only showing top 20 rows\n",
      "\n"
     ]
    }
   ],
   "source": [
    "df.printSchema()\n",
    "df.show()"
   ]
  },
  {
   "cell_type": "code",
   "execution_count": 6,
   "metadata": {},
   "outputs": [
    {
     "name": "stdout",
     "output_type": "stream",
     "text": [
      "+--------------------+---------+\n",
      "|             PATIENT|     CODE|\n",
      "+--------------------+---------+\n",
      "|09e4e8cb-29c2-4ef...| 65363002|\n",
      "|b0a03e8c-8d0f-424...|241929008|\n",
      "|09e4e8cb-29c2-4ef...|444814009|\n",
      "|09e4e8cb-29c2-4ef...| 65363002|\n",
      "|09e4e8cb-29c2-4ef...|444814009|\n",
      "|09e4e8cb-29c2-4ef...| 33737001|\n",
      "|b0a03e8c-8d0f-424...|444814009|\n",
      "|b0a03e8c-8d0f-424...| 10509002|\n",
      "|b0a03e8c-8d0f-424...|233678006|\n",
      "|b0a03e8c-8d0f-424...|195662009|\n",
      "|b0a03e8c-8d0f-424...|232353008|\n",
      "|b0a03e8c-8d0f-424...|195662009|\n",
      "|5420ae87-24c8-4ed...|446096008|\n",
      "|5420ae87-24c8-4ed...|284551006|\n",
      "|5420ae87-24c8-4ed...|283371005|\n",
      "|5420ae87-24c8-4ed...| 72892002|\n",
      "|5420ae87-24c8-4ed...|444814009|\n",
      "|5420ae87-24c8-4ed...|195662009|\n",
      "|bf1f30f2-27de-4b5...|162864005|\n",
      "|bf1f30f2-27de-4b5...|283385000|\n",
      "+--------------------+---------+\n",
      "only showing top 20 rows\n",
      "\n"
     ]
    }
   ],
   "source": [
    "Data_list = [\"START\",\"STOP\",\"PATIENT\",\"ENCOUNTER\",\"CODE\",\"DESCRIPTION\"]\n",
    " \n",
    "df = df.toDF(*Data_list)\n",
    "df=df.filter(df.START !=\"START\")\n",
    "df=df.drop(*['START','STOP','ENCOUNTER','DESCRIPTION'])\n",
    "df.show()"
   ]
  },
  {
   "cell_type": "code",
   "execution_count": 7,
   "metadata": {},
   "outputs": [],
   "source": [
    "df = df.dropna()  #confirmar depois com tudo"
   ]
  },
  {
   "cell_type": "code",
   "execution_count": 8,
   "metadata": {},
   "outputs": [
    {
     "name": "stdout",
     "output_type": "stream",
     "text": [
      "+--------------------+---------+\n",
      "|             PATIENT|     CODE|\n",
      "+--------------------+---------+\n",
      "|09e4e8cb-29c2-4ef...| 65363002|\n",
      "|b0a03e8c-8d0f-424...|241929008|\n",
      "|09e4e8cb-29c2-4ef...|444814009|\n",
      "|09e4e8cb-29c2-4ef...| 65363002|\n",
      "|09e4e8cb-29c2-4ef...|444814009|\n",
      "|09e4e8cb-29c2-4ef...| 33737001|\n",
      "|b0a03e8c-8d0f-424...|444814009|\n",
      "|b0a03e8c-8d0f-424...| 10509002|\n",
      "|b0a03e8c-8d0f-424...|233678006|\n",
      "|b0a03e8c-8d0f-424...|195662009|\n",
      "|b0a03e8c-8d0f-424...|232353008|\n",
      "|b0a03e8c-8d0f-424...|195662009|\n",
      "|5420ae87-24c8-4ed...|446096008|\n",
      "|5420ae87-24c8-4ed...|284551006|\n",
      "|5420ae87-24c8-4ed...|283371005|\n",
      "|5420ae87-24c8-4ed...| 72892002|\n",
      "|5420ae87-24c8-4ed...|444814009|\n",
      "|5420ae87-24c8-4ed...|195662009|\n",
      "|bf1f30f2-27de-4b5...|162864005|\n",
      "|bf1f30f2-27de-4b5...|283385000|\n",
      "+--------------------+---------+\n",
      "only showing top 20 rows\n",
      "\n"
     ]
    }
   ],
   "source": [
    "df.show()"
   ]
  },
  {
   "cell_type": "code",
   "execution_count": 9,
   "metadata": {},
   "outputs": [
    {
     "name": "stdout",
     "output_type": "stream",
     "text": [
      "+------------------------------------+------------------------------------------------------------------------------------------------+\n",
      "|PATIENT                             |items                                                                                           |\n",
      "+------------------------------------+------------------------------------------------------------------------------------------------+\n",
      "|09e4e8cb-29c2-4ef4-86c0-a6ff0ba25d2a|[33737001, 65363002, 444814009]                                                                 |\n",
      "|b0a03e8c-8d0f-4242-9548-40f4d294eba8|[241929008, 10509002, 233678006, 444814009, 195662009, 232353008]                               |\n",
      "|5420ae87-24c8-4ed4-ad14-041d15aadae9|[446096008, 72892002, 283371005, 444814009, 195662009, 284551006]                               |\n",
      "|bf1f30f2-27de-4b54-809b-f91b92949565|[162864005, 283385000, 239873007]                                                               |\n",
      "|28a3cdb7-1db1-4148-8280-8a4e5b4f99e0|[156073000, 72892002, 19169002, 284551006]                                                      |\n",
      "|6c248ef3-3fa2-4888-820e-d8a596bdc381|[162864005, 713197008, 429007001, 36971009, 444814009, 410429000, 55822004, 239873007, 68496003]|\n",
      "|90f0b8d0-3888-415f-8234-d68f7beab894|[307731004, 72892002, 10509002, 444814009, 195662009, 44465007]                                 |\n",
      "|3826037f-19e0-4c7b-98e5-4e9578472f67|[162864005, 65966004, 24079001, 55822004]                                                       |\n",
      "+------------------------------------+------------------------------------------------------------------------------------------------+\n",
      "\n"
     ]
    }
   ],
   "source": [
    "#Cada basquet não tem items repetidos, ou seja, se uma pessoa tiver a mesma doença mais que uma vez não é contabilizado aqui\n",
    "#Pode ser interessante arranjar maneira de contabilizar, logo se vê....\n",
    "\n",
    "from pyspark.sql.functions import collect_set, col, count\n",
    "\n",
    "baskets = df.groupBy('PATIENT').agg(collect_set('CODE').alias('items'))\n",
    "baskets.createOrReplaceTempView('baskets')\n",
    "baskets.show(20,False)"
   ]
  },
  {
   "cell_type": "code",
   "execution_count": 10,
   "metadata": {},
   "outputs": [
    {
     "name": "stdout",
     "output_type": "stream",
     "text": [
      "+------------------------------------------------------------------------------------------------+\n",
      "|items                                                                                           |\n",
      "+------------------------------------------------------------------------------------------------+\n",
      "|[33737001, 65363002, 444814009]                                                                 |\n",
      "|[241929008, 10509002, 233678006, 444814009, 195662009, 232353008]                               |\n",
      "|[446096008, 72892002, 283371005, 444814009, 195662009, 284551006]                               |\n",
      "|[162864005, 283385000, 239873007]                                                               |\n",
      "|[156073000, 72892002, 19169002, 284551006]                                                      |\n",
      "|[162864005, 713197008, 429007001, 36971009, 444814009, 410429000, 55822004, 239873007, 68496003]|\n",
      "|[307731004, 72892002, 10509002, 444814009, 195662009, 44465007]                                 |\n",
      "|[162864005, 65966004, 24079001, 55822004]                                                       |\n",
      "+------------------------------------------------------------------------------------------------+\n",
      "\n"
     ]
    }
   ],
   "source": [
    "baskets=baskets.drop('PATIENT')\n",
    "baskets.show(20,False)"
   ]
  },
  {
   "cell_type": "code",
   "execution_count": 11,
   "metadata": {},
   "outputs": [
    {
     "data": {
      "text/plain": [
       "[['33737001', '65363002', '444814009'],\n",
       " ['241929008', '10509002', '233678006', '444814009', '195662009', '232353008'],\n",
       " ['446096008', '72892002', '283371005', '444814009', '195662009', '284551006'],\n",
       " ['162864005', '283385000', '239873007'],\n",
       " ['156073000', '72892002', '19169002', '284551006']]"
      ]
     },
     "execution_count": 11,
     "metadata": {},
     "output_type": "execute_result"
    }
   ],
   "source": [
    "BasquetRDD = baskets.rdd.flatMap(list)   #.map(list)\n",
    "BasquetRDD.take(5)"
   ]
  },
  {
   "cell_type": "code",
   "execution_count": 12,
   "metadata": {},
   "outputs": [
    {
     "name": "stdout",
     "output_type": "stream",
     "text": [
      "+---------+\n",
      "|CODE     |\n",
      "+---------+\n",
      "|65363002 |\n",
      "|241929008|\n",
      "|444814009|\n",
      "|65363002 |\n",
      "|444814009|\n",
      "|33737001 |\n",
      "|444814009|\n",
      "|10509002 |\n",
      "|233678006|\n",
      "|195662009|\n",
      "|232353008|\n",
      "|195662009|\n",
      "|446096008|\n",
      "|284551006|\n",
      "|283371005|\n",
      "|72892002 |\n",
      "|444814009|\n",
      "|195662009|\n",
      "|162864005|\n",
      "|283385000|\n",
      "+---------+\n",
      "only showing top 20 rows\n",
      "\n"
     ]
    }
   ],
   "source": [
    "dfCodes=df.drop('PATIENT')\n",
    "dfCodes.show(20,False)"
   ]
  },
  {
   "cell_type": "code",
   "execution_count": 13,
   "metadata": {},
   "outputs": [
    {
     "data": {
      "text/plain": [
       "['65363002',\n",
       " '241929008',\n",
       " '444814009',\n",
       " '65363002',\n",
       " '444814009',\n",
       " '33737001',\n",
       " '444814009',\n",
       " '10509002',\n",
       " '233678006',\n",
       " '195662009',\n",
       " '232353008',\n",
       " '195662009',\n",
       " '446096008',\n",
       " '284551006',\n",
       " '283371005',\n",
       " '72892002',\n",
       " '444814009',\n",
       " '195662009',\n",
       " '162864005',\n",
       " '283385000']"
      ]
     },
     "execution_count": 13,
     "metadata": {},
     "output_type": "execute_result"
    }
   ],
   "source": [
    "CodesRDD=dfCodes.rdd.flatMap(list)\n",
    "CodesRDD.take(20)"
   ]
  },
  {
   "cell_type": "code",
   "execution_count": 14,
   "metadata": {},
   "outputs": [
    {
     "data": {
      "text/plain": [
       "['65363002',\n",
       " '241929008',\n",
       " '444814009',\n",
       " '33737001',\n",
       " '10509002',\n",
       " '233678006',\n",
       " '195662009',\n",
       " '232353008',\n",
       " '446096008',\n",
       " '284551006']"
      ]
     },
     "execution_count": 14,
     "metadata": {},
     "output_type": "execute_result"
    }
   ],
   "source": [
    "Unique = CodesRDD.distinct()\n",
    "Unique.take(10)"
   ]
  },
  {
   "cell_type": "code",
   "execution_count": 15,
   "metadata": {},
   "outputs": [
    {
     "data": {
      "text/plain": [
       "[('65363002', 2),\n",
       " ('241929008', 1),\n",
       " ('444814009', 6),\n",
       " ('33737001', 1),\n",
       " ('10509002', 3),\n",
       " ('233678006', 1),\n",
       " ('195662009', 4),\n",
       " ('232353008', 1),\n",
       " ('446096008', 1),\n",
       " ('284551006', 2)]"
      ]
     },
     "execution_count": 15,
     "metadata": {},
     "output_type": "execute_result"
    }
   ],
   "source": [
    "CountRDD = CodesRDD.map(lambda item: (item, 1))\n",
    "CountRDD = CountRDD.reduceByKey(lambda a,b: a+b)\n",
    "CountRDD.take(10)"
   ]
  },
  {
   "cell_type": "code",
   "execution_count": 16,
   "metadata": {},
   "outputs": [],
   "source": [
    "#Counts = CountRDD.map(lambda x: x[1])\n",
    "#Counts.take(10)\n",
    "# esta parte acho que não precisamos"
   ]
  },
  {
   "cell_type": "code",
   "execution_count": 34,
   "metadata": {},
   "outputs": [
    {
     "data": {
      "text/plain": [
       "[('65363002', 2),\n",
       " ('444814009', 6),\n",
       " ('10509002', 3),\n",
       " ('195662009', 4),\n",
       " ('284551006', 2),\n",
       " ('72892002', 7),\n",
       " ('162864005', 3),\n",
       " ('239873007', 2),\n",
       " ('55822004', 2)]"
      ]
     },
     "execution_count": 34,
     "metadata": {},
     "output_type": "execute_result"
    }
   ],
   "source": [
    "# Setting a support threshold of 1000\n",
    "# Aqui não tá 1000, tá 2, mas na versão com tudo faz-se com 1000\n",
    "CountFilterRDD=CountRDD.filter(lambda x: x[1] >= 2) #Aqui 1000\n",
    "CountFilterRDD.take(10)"
   ]
  },
  {
   "cell_type": "code",
   "execution_count": 35,
   "metadata": {},
   "outputs": [
    {
     "data": {
      "text/plain": [
       "[(['65363002'], 2),\n",
       " (['444814009'], 6),\n",
       " (['10509002'], 3),\n",
       " (['195662009'], 4),\n",
       " (['284551006'], 2),\n",
       " (['72892002'], 7),\n",
       " (['162864005'], 3),\n",
       " (['239873007'], 2),\n",
       " (['55822004'], 2)]"
      ]
     },
     "execution_count": 35,
     "metadata": {},
     "output_type": "execute_result"
    }
   ],
   "source": [
    "BaseRDD=CountFilterRDD.map(lambda x: ([x[0]], x[1]))\n",
    "BaseRDD.take(10)"
   ]
  },
  {
   "cell_type": "code",
   "execution_count": 36,
   "metadata": {},
   "outputs": [
    {
     "data": {
      "text/plain": [
       "['65363002',\n",
       " '444814009',\n",
       " '10509002',\n",
       " '195662009',\n",
       " '284551006',\n",
       " '72892002',\n",
       " '162864005',\n",
       " '239873007',\n",
       " '55822004']"
      ]
     },
     "execution_count": 36,
     "metadata": {},
     "output_type": "execute_result"
    }
   ],
   "source": [
    "CodeFilterRDD=CountFilterRDD.map(lambda x: x[0])\n",
    "CodeFilterRDD.take(10)"
   ]
  },
  {
   "cell_type": "code",
   "execution_count": 23,
   "metadata": {},
   "outputs": [],
   "source": [
    "#Simplesmente copiei isto temos de perceber e mudar ahah\n",
    "\n",
    "# Remove Replicas \n",
    "#Basquets with items that are in a diferent order, but with the same items\n",
    "\n",
    "def removeReplica(record):\n",
    "\n",
    "    if(isinstance(record[0], tuple)):\n",
    "        x1 = record[0]\n",
    "        x2 = record[1]\n",
    "    else:\n",
    "        x1 = [record[0]]\n",
    "        x2 = record[1]\n",
    "\n",
    "    if(any(x == x2 for x in x1) == False):\n",
    "        a = list(x1)\n",
    "        a.append(x2)\n",
    "        a.sort()\n",
    "        result = tuple(a)\n",
    "        return result \n",
    "    else:\n",
    "        return x1"
   ]
  },
  {
   "cell_type": "code",
   "execution_count": 25,
   "metadata": {},
   "outputs": [
    {
     "data": {
      "text/plain": [
       "[('65363002', '65363002'),\n",
       " ('65363002', '241929008'),\n",
       " ('65363002', '444814009'),\n",
       " ('65363002', '33737001'),\n",
       " ('65363002', '10509002'),\n",
       " ('65363002', '233678006'),\n",
       " ('65363002', '195662009'),\n",
       " ('65363002', '232353008'),\n",
       " ('65363002', '446096008'),\n",
       " ('65363002', '284551006'),\n",
       " ('65363002', '283371005'),\n",
       " ('65363002', '72892002'),\n",
       " ('65363002', '162864005'),\n",
       " ('65363002', '283385000'),\n",
       " ('65363002', '239873007'),\n",
       " ('65363002', '19169002'),\n",
       " ('65363002', '156073000'),\n",
       " ('65363002', '410429000'),\n",
       " ('65363002', '429007001'),\n",
       " ('65363002', '55822004'),\n",
       " ('65363002', '307731004'),\n",
       " ('65363002', '68496003'),\n",
       " ('65363002', '44465007'),\n",
       " ('65363002', '713197008'),\n",
       " ('65363002', '36971009'),\n",
       " ('65363002', '24079001'),\n",
       " ('65363002', '65966004'),\n",
       " ('444814009', '65363002'),\n",
       " ('10509002', '65363002'),\n",
       " ('444814009', '241929008'),\n",
       " ('444814009', '444814009'),\n",
       " ('10509002', '241929008'),\n",
       " ('10509002', '444814009'),\n",
       " ('444814009', '33737001'),\n",
       " ('444814009', '10509002'),\n",
       " ('444814009', '233678006'),\n",
       " ('444814009', '195662009'),\n",
       " ('10509002', '33737001'),\n",
       " ('10509002', '10509002'),\n",
       " ('10509002', '233678006')]"
      ]
     },
     "execution_count": 25,
     "metadata": {},
     "output_type": "execute_result"
    }
   ],
   "source": [
    "Combine = CodeFilterRDD.cartesian(Unique)\n",
    "Combine.take(40)"
   ]
  },
  {
   "cell_type": "code",
   "execution_count": 26,
   "metadata": {},
   "outputs": [
    {
     "data": {
      "text/plain": [
       "[['65363002'],\n",
       " ('241929008', '65363002'),\n",
       " ('444814009', '65363002'),\n",
       " ('33737001', '65363002'),\n",
       " ('10509002', '65363002'),\n",
       " ('233678006', '65363002'),\n",
       " ('195662009', '65363002'),\n",
       " ('232353008', '65363002'),\n",
       " ('446096008', '65363002'),\n",
       " ('284551006', '65363002'),\n",
       " ('283371005', '65363002'),\n",
       " ('65363002', '72892002'),\n",
       " ('162864005', '65363002'),\n",
       " ('283385000', '65363002'),\n",
       " ('239873007', '65363002'),\n",
       " ('19169002', '65363002'),\n",
       " ('156073000', '65363002'),\n",
       " ('410429000', '65363002'),\n",
       " ('429007001', '65363002'),\n",
       " ('55822004', '65363002'),\n",
       " ('307731004', '65363002'),\n",
       " ('65363002', '68496003'),\n",
       " ('44465007', '65363002'),\n",
       " ('65363002', '713197008'),\n",
       " ('36971009', '65363002'),\n",
       " ('24079001', '65363002'),\n",
       " ('65363002', '65966004'),\n",
       " ('444814009', '65363002'),\n",
       " ('10509002', '65363002'),\n",
       " ('241929008', '444814009'),\n",
       " ['444814009'],\n",
       " ('10509002', '241929008'),\n",
       " ('10509002', '444814009'),\n",
       " ('33737001', '444814009'),\n",
       " ('10509002', '444814009'),\n",
       " ('233678006', '444814009'),\n",
       " ('195662009', '444814009'),\n",
       " ('10509002', '33737001'),\n",
       " ['10509002'],\n",
       " ('10509002', '233678006')]"
      ]
     },
     "execution_count": 26,
     "metadata": {},
     "output_type": "execute_result"
    }
   ],
   "source": [
    "Combine = Combine.map(lambda item: removeReplica(item))\n",
    "Combine.take(40)"
   ]
  },
  {
   "cell_type": "code",
   "execution_count": 27,
   "metadata": {},
   "outputs": [],
   "source": [
    "def SumOp(x,y):\n",
    "    return x+y"
   ]
  },
  {
   "cell_type": "code",
   "execution_count": 39,
   "metadata": {},
   "outputs": [
    {
     "name": "stdout",
     "output_type": "stream",
     "text": [
      "2 . Table has crated... \n"
     ]
    }
   ],
   "source": [
    "# assim acho que só funciona para k=2\n",
    "# ainda tem de se ver melhor\n",
    "\n",
    "c=2\n",
    "#for c in[2,3]:\n",
    "#while(CodeFilterRDD.isEmpty() == False):\n",
    "\n",
    "combined = CodeFilterRDD.cartesian(Unique)\n",
    "combined = combined.map(lambda item: removeReplica(item))\n",
    "  \n",
    "combined = combined.filter(lambda item: len(item) == c)\n",
    "combined = combined.distinct()\n",
    "\n",
    "    \n",
    "combined_2 = combined.cartesian(BasquetRDD)\n",
    "combined_2 = combined_2.filter(lambda item: all(x in item[1] for x in item[0]))\n",
    "    \n",
    "combined_2 = combined_2.map(lambda item: item[0])\n",
    "combined_2 = combined_2.map(lambda item: (item , 1))\n",
    "combined_2 = combined_2.reduceByKey(SumOp)\n",
    "combined_2 = combined_2.filter(lambda item: item[1] >= 2) #Aqui 1000 em vez de 2\n",
    "\n",
    "BaseRDD = BaseRDD.union(combined_2)\n",
    "    \n",
    "combined_2 = combined_2.map(lambda item: item[0])\n",
    "supportRdd = combined_2\n",
    "print(c ,'. Table has crated... ')\n",
    "\n",
    "#c = c+1 "
   ]
  },
  {
   "cell_type": "code",
   "execution_count": 40,
   "metadata": {},
   "outputs": [
    {
     "data": {
      "text/plain": [
       "[('241929008', '65363002'),\n",
       " ('444814009', '65363002'),\n",
       " ('33737001', '65363002'),\n",
       " ('10509002', '65363002'),\n",
       " ('233678006', '65363002')]"
      ]
     },
     "execution_count": 40,
     "metadata": {},
     "output_type": "execute_result"
    }
   ],
   "source": [
    "combined.take(5)"
   ]
  },
  {
   "cell_type": "code",
   "execution_count": 41,
   "metadata": {},
   "outputs": [
    {
     "data": {
      "text/plain": [
       "['65363002',\n",
       " '444814009',\n",
       " '10509002',\n",
       " '195662009',\n",
       " '284551006',\n",
       " '72892002',\n",
       " '162864005',\n",
       " '239873007',\n",
       " '55822004']"
      ]
     },
     "execution_count": 41,
     "metadata": {},
     "output_type": "execute_result"
    }
   ],
   "source": [
    "CodeFilterRDD.take(10)"
   ]
  },
  {
   "cell_type": "code",
   "execution_count": 42,
   "metadata": {},
   "outputs": [
    {
     "data": {
      "text/plain": [
       "[['33737001', '65363002', '444814009'],\n",
       " ['241929008', '10509002', '233678006', '444814009', '195662009', '232353008'],\n",
       " ['446096008', '72892002', '283371005', '444814009', '195662009', '284551006'],\n",
       " ['162864005', '283385000', '239873007'],\n",
       " ['156073000', '72892002', '19169002', '284551006'],\n",
       " ['162864005',\n",
       "  '713197008',\n",
       "  '429007001',\n",
       "  '36971009',\n",
       "  '444814009',\n",
       "  '410429000',\n",
       "  '55822004',\n",
       "  '239873007',\n",
       "  '68496003'],\n",
       " ['307731004', '72892002', '10509002', '444814009', '195662009', '44465007'],\n",
       " ['162864005', '65966004', '24079001', '55822004']]"
      ]
     },
     "execution_count": 42,
     "metadata": {},
     "output_type": "execute_result"
    }
   ],
   "source": [
    "BasquetRDD.take(10)"
   ]
  },
  {
   "cell_type": "code",
   "execution_count": 44,
   "metadata": {},
   "outputs": [
    {
     "data": {
      "text/plain": [
       "[(['65363002'], 2),\n",
       " (['444814009'], 6),\n",
       " (['10509002'], 3),\n",
       " (['195662009'], 4),\n",
       " (['284551006'], 2),\n",
       " (['72892002'], 7),\n",
       " (['162864005'], 3),\n",
       " (['239873007'], 2),\n",
       " (['55822004'], 2),\n",
       " (('10509002', '444814009'), 2),\n",
       " (('195662009', '444814009'), 3),\n",
       " (('10509002', '195662009'), 2),\n",
       " (('444814009', '72892002'), 2),\n",
       " (('195662009', '72892002'), 2),\n",
       " (('284551006', '72892002'), 2)]"
      ]
     },
     "execution_count": 44,
     "metadata": {},
     "output_type": "execute_result"
    }
   ],
   "source": [
    "BaseRDD.take(15)"
   ]
  },
  {
   "cell_type": "code",
   "execution_count": 45,
   "metadata": {},
   "outputs": [
    {
     "data": {
      "text/plain": [
       "[('10509002', '444814009'),\n",
       " ('195662009', '444814009'),\n",
       " ('10509002', '195662009'),\n",
       " ('444814009', '72892002'),\n",
       " ('195662009', '72892002'),\n",
       " ('284551006', '72892002'),\n",
       " ('162864005', '239873007'),\n",
       " ('162864005', '55822004')]"
      ]
     },
     "execution_count": 45,
     "metadata": {},
     "output_type": "execute_result"
    }
   ],
   "source": [
    "combined_2.take(10)"
   ]
  },
  {
   "cell_type": "code",
   "execution_count": null,
   "metadata": {},
   "outputs": [],
   "source": [
    "### Confidence Calculation\n",
    "# Nem sei bem o que é ainda\n",
    "\n",
    "def printProgressBar (iteration, total, prefix = '', suffix = '', decimals = 1, length = 100, fill = '█', printEnd = \"\\r\"):\n",
    "    \"\"\"\n",
    "    Call in a loop to create terminal progress bar\n",
    "    @params:\n",
    "        iteration   - Required  : current iteration (Int)\n",
    "        total       - Required  : total iterations (Int)\n",
    "        prefix      - Optional  : prefix string (Str)\n",
    "        suffix      - Optional  : suffix string (Str)\n",
    "        decimals    - Optional  : positive number of decimals in percent complete (Int)\n",
    "        length      - Optional  : character length of bar (Int)\n",
    "        fill        - Optional  : bar fill character (Str)\n",
    "        printEnd    - Optional  : end character (e.g. \"\\r\", \"\\r\\n\") (Str)\n",
    "    \"\"\"\n",
    "    percent = (\"{0:.\" + str(decimals) + \"f}\").format(100 * (iteration / float(total)))\n",
    "    filledLength = int(length * iteration // total)\n",
    "    bar = fill * filledLength + '-' * (length - filledLength)\n",
    "    print('\\r %s %s |%s| %s%% %s' % ('Preprocessing ' , prefix, bar, percent, suffix), end = printEnd)\n",
    "    # Print New Line on Complete\n",
    "    if iteration == total: \n",
    "        print()\n"
   ]
  },
  {
   "cell_type": "code",
   "execution_count": null,
   "metadata": {},
   "outputs": [],
   "source": [
    "# falta ainda uma parte do apriori"
   ]
  },
  {
   "cell_type": "markdown",
   "metadata": {},
   "source": [
    "Repositório fixe para o apriori\n",
    "\n",
    "https://github.com/sergencansiz/apriori-pyspark/blob/master/AprioriPySpark.py\n"
   ]
  },
  {
   "cell_type": "code",
   "execution_count": null,
   "metadata": {},
   "outputs": [],
   "source": []
  }
 ],
 "metadata": {
  "interpreter": {
   "hash": "e61b0395c6402dd6e89f7a5082a90c12afe336de25fb448ff9b187ddb8b4ce0d"
  },
  "kernelspec": {
   "display_name": "Python 3 (ipykernel)",
   "language": "python",
   "name": "python3"
  },
  "language_info": {
   "codemirror_mode": {
    "name": "ipython",
    "version": 3
   },
   "file_extension": ".py",
   "mimetype": "text/x-python",
   "name": "python",
   "nbconvert_exporter": "python",
   "pygments_lexer": "ipython3",
   "version": "3.9.10"
  }
 },
 "nbformat": 4,
 "nbformat_minor": 4
}
